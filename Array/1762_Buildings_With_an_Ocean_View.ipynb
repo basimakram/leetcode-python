{
  "nbformat": 4,
  "nbformat_minor": 0,
  "metadata": {
    "colab": {
      "provenance": []
    },
    "kernelspec": {
      "name": "python3",
      "display_name": "Python 3"
    },
    "language_info": {
      "name": "python"
    }
  },
  "cells": [
    {
      "cell_type": "markdown",
      "source": [
        "\n",
        "\n",
        "### **Buildings With an Ocean View**\n",
        "\n",
        "> **Problem Statement:**  \n",
        "You are given an array `heights` where `heights[i]` represents the height of the `i-th` building in a straight line.  \n",
        "The **ocean** is to the **right** of the buildings.\n",
        "\n",
        "A building has an ocean view if all the buildings to its right are **shorter**.  \n",
        "Return a list of indices (0-indexed) of the buildings that have an ocean view, **sorted in increasing order**.\n",
        "\n",
        "---\n",
        "\n",
        "**Examples**\n",
        "\n",
        "**Example 1:**  \n",
        "Input: heights = [4,2,3,1]  \n",
        "Output: [0, 2, 3]  \n",
        "Explanation: Building 1 cannot see the ocean because building 2 is taller.\n",
        "\n",
        "---\n",
        "\n",
        "**Example 2:**  \n",
        "Input: heights = [4,3,2,1]  \n",
        "Output: [0, 1, 2, 3]  \n",
        "Explanation: All buildings can see the ocean.\n",
        "\n",
        "---\n",
        "\n",
        "**Example 3:**  \n",
        "Input: heights = [1,3,2,4]  \n",
        "Output: [3]  \n",
        "Explanation: Only building 3 has an ocean view.\n",
        "\n",
        "---\n",
        "\n",
        "**Example 4:**  \n",
        "Input: heights = [2,2,2,2]  \n",
        "Output: [3]  \n",
        "Explanation: Buildings of the same height to the right block the view.\n",
        "\n",
        "---\n",
        "\n",
        "**Constraints**\n",
        "\n",
        "- 1 <= heights.length <= 10⁵\n",
        "- 1 <= heights[i] <= 10⁹\n",
        "\n",
        "---"
      ],
      "metadata": {
        "id": "MYIEsBaN7Vo0"
      }
    },
    {
      "cell_type": "code",
      "source": [
        "from typing import List"
      ],
      "metadata": {
        "id": "3EWSJBCVNH9E"
      },
      "execution_count": 1,
      "outputs": []
    },
    {
      "cell_type": "code",
      "source": [
        "#Brute Force\n",
        "class Solutions:\n",
        "  def findBuildings(self, heights: List[int]) -> List[int]:\n",
        "    building = []\n",
        "\n",
        "    for i, height in enumerate(heights):\n",
        "      has_view = True\n",
        "\n",
        "      # Check every building to the right\n",
        "      for j in range(i + 1, len(heights)):\n",
        "        if heights[j] >= height:\n",
        "          has_view = False\n",
        "          break\n",
        "\n",
        "      if has_view:\n",
        "        building.append(i)\n",
        "\n",
        "    return building"
      ],
      "metadata": {
        "id": "T5mOfmPtMSok"
      },
      "execution_count": 2,
      "outputs": []
    },
    {
      "cell_type": "code",
      "source": [
        "#Optimized\n",
        "class Solutions:\n",
        "  def findBuildings(self, heights: List[int]) -> List[int]:\n",
        "    building = []\n",
        "    for i, height in enumerate(heights):\n",
        "      # print(f\"i is {i}\\n\")\n",
        "      # print(f\"heights is {height}\\n\")\n",
        "      while building and heights[building[-1]] <= height:\n",
        "        building.pop()\n",
        "\n",
        "      building.append(i)\n",
        "\n",
        "    return building"
      ],
      "metadata": {
        "id": "WNvu4deVLun3"
      },
      "execution_count": 3,
      "outputs": []
    },
    {
      "cell_type": "code",
      "source": [
        "#Best Optimized\n",
        "class Solutions:\n",
        "  def findBuildings(self, heights: List[int]) -> List[int]:\n",
        "    buildings = [len(heights)-1]\n",
        "    max_height = heights[-1]\n",
        "\n",
        "    for i in range(len(heights)-2, -1, -1):\n",
        "      height = heights[i]\n",
        "      if height > max_height:\n",
        "        buildings.append(i)\n",
        "        max_height = height\n",
        "\n",
        "    return buildings[::-1]"
      ],
      "metadata": {
        "id": "JG15DQlJPsU-"
      },
      "execution_count": 4,
      "outputs": []
    },
    {
      "cell_type": "code",
      "source": [
        "sol = Solutions()"
      ],
      "metadata": {
        "id": "ZXr7BMQB-Q2q"
      },
      "execution_count": 5,
      "outputs": []
    },
    {
      "cell_type": "code",
      "source": [
        "sol.findBuildings(heights=[5, 1, 2, 10, 2, 3])"
      ],
      "metadata": {
        "colab": {
          "base_uri": "https://localhost:8080/"
        },
        "id": "kqDGChTJD3rb",
        "outputId": "dc523f37-c433-43a9-d9fc-1f39a4426022"
      },
      "execution_count": 6,
      "outputs": [
        {
          "output_type": "execute_result",
          "data": {
            "text/plain": [
              "[3, 5]"
            ]
          },
          "metadata": {},
          "execution_count": 6
        }
      ]
    },
    {
      "cell_type": "code",
      "source": [],
      "metadata": {
        "id": "_DLA_B6gNOgF"
      },
      "execution_count": 6,
      "outputs": []
    }
  ]
}