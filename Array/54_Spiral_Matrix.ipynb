{
  "cells": [
    {
      "cell_type": "markdown",
      "metadata": {
        "id": "YaCLcYX7aDRE"
      },
      "source": [
        "# **Spiral Matrix**\n",
        "> **Problem Statement:**  \n",
        "Given an `m x n` matrix, return *all elements of the matrix in spiral order*.  \n",
        "\n",
        "---\n",
        "\n",
        "**Examples**\n",
        "\n",
        "**Example 1:**  \n",
        "Input: `matrix = [[1,2,3],[4,5,6],[7,8,9]]`  \n",
        "Output: `[1,2,3,6,9,8,7,4,5]`  \n",
        "```\n",
        "1 → 2 → 3\n",
        "        ↓\n",
        "4 → 5   6\n",
        "↑       ↓\n",
        "7 ← 8 ← 9\n",
        "```\n",
        "\n",
        "---\n",
        "\n",
        "**Example 2:**  \n",
        "Input: `matrix = [[1,2,3,4],[5,6,7,8],[9,10,11,12]]`  \n",
        "Output: `[1,2,3,4,8,12,11,10,9,5,6,7]`  \n",
        "```\n",
        "1  → 2  → 3  → 4\n",
        "                ↓\n",
        "5  → 6  → 7    8\n",
        "↑               ↓\n",
        "9 ← 10 ← 11 ← 12\n",
        "```\n",
        "\n",
        "---\n",
        "\n",
        "**Constraints**\n",
        "\n",
        "- `m == matrix.length`\n",
        "- `n == matrix[i].length`\n",
        "- `1 <= m, n <= 10`\n",
        "- `-100 <= matrix[i][j] <= 100`\n",
        "\n",
        "---\n",
        "\n",
        "**Key Insight**\n",
        "\n",
        "> Process the matrix layer by layer: **Right → Down → Left → Up**, then move inward to the next layer."
      ]
    },
    {
      "cell_type": "code",
      "execution_count": 1,
      "metadata": {
        "id": "s3qa6qzPCNoY"
      },
      "outputs": [],
      "source": [
        "from typing import List"
      ]
    },
    {
      "cell_type": "code",
      "execution_count": 20,
      "metadata": {
        "id": "F_kgl_e0aObl"
      },
      "outputs": [],
      "source": [
        "# Matrix Modification Approach - O(m×n) Time, O(1) Space (excluding output)\n",
        "class Solutions:\n",
        "    def spiralOrder(self, matrix: List[List[int]]) -> List[int]:\n",
        "        spiral_result = []\n",
        "        \n",
        "        while matrix:\n",
        "            # Step 1: Add first row (left to right)\n",
        "            spiral_result.extend(matrix.pop(0))\n",
        "            \n",
        "            if matrix:\n",
        "                # Step 2: Add last element of each remaining row (top to bottom)\n",
        "                for row in matrix:\n",
        "                    if row:\n",
        "                        spiral_result.append(row.pop())\n",
        "                \n",
        "                # Step 3: Add last row in reverse (right to left)\n",
        "                if matrix:\n",
        "                    spiral_result.extend(matrix.pop()[::-1])\n",
        "                \n",
        "                # Step 4: Add first element of each row in reverse order (bottom to top)\n",
        "                for row in matrix[::-1]:\n",
        "                    if row:\n",
        "                        spiral_result.append(row.pop(0))\n",
        "        \n",
        "        return spiral_result"
      ]
    },
    {
      "cell_type": "code",
      "execution_count": 21,
      "metadata": {
        "id": "explicit_step_approach"
      },
      "outputs": [],
      "source": [
        "# Explicit Step-by-Step Approach - O(m×n) Time, O(1) Space (excluding output)\n",
        "class Solutions:\n",
        "    def spiralOrder(self, matrix: List[List[int]]) -> List[int]:\n",
        "        spiral_result = []\n",
        "        \n",
        "        def is_matrix_empty():\n",
        "            \"\"\"Check if the matrix has no more elements.\"\"\"\n",
        "            return len(matrix) == 0\n",
        "        \n",
        "        while True:\n",
        "            # Step 1: Add elements of the first row (left to right)\n",
        "            spiral_result.extend(matrix[0])\n",
        "            matrix.pop(0)\n",
        "            if is_matrix_empty():\n",
        "                return spiral_result\n",
        "            \n",
        "            # Step 2: Add last element of each remaining row (top to bottom)\n",
        "            for row in matrix:\n",
        "                spiral_result.append(row[-1])\n",
        "                row.pop(-1)\n",
        "            if is_matrix_empty():\n",
        "                return spiral_result\n",
        "            \n",
        "            # Step 3: Add last row in reverse order (right to left)\n",
        "            spiral_result.extend(matrix[-1][::-1])\n",
        "            matrix.pop(-1)\n",
        "            if is_matrix_empty():\n",
        "                return spiral_result\n",
        "            \n",
        "            # Step 4: Add first element of each row in reverse order (bottom to top)\n",
        "            for row in reversed(matrix):\n",
        "                spiral_result.append(row[0])\n",
        "                row.pop(0)"
      ]
    },
    {
      "cell_type": "code",
      "execution_count": 22,
      "metadata": {
        "id": "WIBR_ihfjCHV"
      },
      "outputs": [],
      "source": [
        "# Boundary-based Approach - O(m×n) Time, O(1) Space (excluding output)\n",
        "class Solutions:\n",
        "    def spiralOrder(self, matrix: List[List[int]]) -> List[int]:\n",
        "        if not matrix or not matrix[0]:\n",
        "            return []\n",
        "        \n",
        "        spiral_result = []\n",
        "        rows, cols = len(matrix), len(matrix[0])\n",
        "        \n",
        "        # Define boundaries\n",
        "        top, bottom = 0, rows - 1\n",
        "        left, right = 0, cols - 1\n",
        "        \n",
        "        while top <= bottom and left <= right:\n",
        "            # Move right across the top row\n",
        "            for col in range(left, right + 1):\n",
        "                spiral_result.append(matrix[top][col])\n",
        "            top += 1\n",
        "            \n",
        "            # Move down along the right column\n",
        "            for row in range(top, bottom + 1):\n",
        "                spiral_result.append(matrix[row][right])\n",
        "            right -= 1\n",
        "            \n",
        "            # Move left across the bottom row (if there's a row left)\n",
        "            if top <= bottom:\n",
        "                for col in range(right, left - 1, -1):\n",
        "                    spiral_result.append(matrix[bottom][col])\n",
        "                bottom -= 1\n",
        "            \n",
        "            # Move up along the left column (if there's a column left)\n",
        "            if left <= right:\n",
        "                for row in range(bottom, top - 1, -1):\n",
        "                    spiral_result.append(matrix[row][left])\n",
        "                left += 1\n",
        "        \n",
        "        return spiral_result"
      ]
    },
    {
      "cell_type": "code",
      "execution_count": 34,
      "metadata": {
        "id": "direction_vector_approach"
      },
      "outputs": [],
      "source": [
        "# Direction Vector Approach - O(m×n) Time, O(m×n) Space\n",
        "class Solutions:\n",
        "    def spiralOrder(self, matrix: List[List[int]]) -> List[int]:\n",
        "        if not matrix or not matrix[0]:\n",
        "            return []\n",
        "        \n",
        "        rows, cols = len(matrix), len(matrix[0])\n",
        "        visited = [[False] * cols for _ in range(rows)]\n",
        "        spiral_result = []\n",
        "        \n",
        "        # Direction vectors: right, down, left, up\n",
        "        directions = [(0, 1), (1, 0), (0, -1), (-1, 0)]\n",
        "        current_direction = 0\n",
        "        \n",
        "        row, col = 0, 0\n",
        "        \n",
        "        for _ in range(rows * cols):\n",
        "            spiral_result.append(matrix[row][col])\n",
        "            visited[row][col] = True\n",
        "            \n",
        "            # Calculate next position\n",
        "            dr, dc = directions[current_direction]\n",
        "            next_row, next_col = row + dr, col + dc\n",
        "            \n",
        "            # Check if we need to turn (hit boundary or visited cell)\n",
        "            if (next_row < 0 or next_row >= rows or \n",
        "                next_col < 0 or next_col >= cols or \n",
        "                visited[next_row][next_col]):\n",
        "                current_direction = (current_direction + 1) % 4\n",
        "                dr, dc = directions[current_direction]\n",
        "                next_row, next_col = row + dr, col + dc\n",
        "            \n",
        "            row, col = next_row, next_col\n",
        "        \n",
        "        return spiral_result"
      ]
    },
    {
      "cell_type": "code",
      "execution_count": 33,
      "metadata": {
        "id": "layer_by_layer_approach"
      },
      "outputs": [],
      "source": [
        "# Layer-by-Layer Approach - O(m×n) Time, O(1) Space (excluding output)\n",
        "class Solutions:\n",
        "    def spiralOrder(self, matrix: List[List[int]]) -> List[int]:\n",
        "        if not matrix or not matrix[0]:\n",
        "            return []\n",
        "        \n",
        "        spiral_result = []\n",
        "        rows, cols = len(matrix), len(matrix[0])\n",
        "        \n",
        "        # Process layer by layer from outside to inside\n",
        "        for layer in range((min(rows, cols) + 1) // 2):\n",
        "            # Define current layer boundaries\n",
        "            top, bottom = layer, rows - 1 - layer\n",
        "            left, right = layer, cols - 1 - layer\n",
        "            \n",
        "            # Single row case\n",
        "            if top == bottom:\n",
        "                for col in range(left, right + 1):\n",
        "                    spiral_result.append(matrix[top][col])\n",
        "            # Single column case\n",
        "            elif left == right:\n",
        "                for row in range(top, bottom + 1):\n",
        "                    spiral_result.append(matrix[row][left])\n",
        "            # Normal case: traverse the layer\n",
        "            else:\n",
        "                # Top row (left to right)\n",
        "                for col in range(left, right):\n",
        "                    spiral_result.append(matrix[top][col])\n",
        "                \n",
        "                # Right column (top to bottom)\n",
        "                for row in range(top, bottom):\n",
        "                    spiral_result.append(matrix[row][right])\n",
        "                \n",
        "                # Bottom row (right to left)\n",
        "                for col in range(right, left, -1):\n",
        "                    spiral_result.append(matrix[bottom][col])\n",
        "                \n",
        "                # Left column (bottom to top)\n",
        "                for row in range(bottom, top, -1):\n",
        "                    spiral_result.append(matrix[row][left])\n",
        "        \n",
        "        return spiral_result"
      ]
    },
    {
      "cell_type": "code",
      "execution_count": 38,
      "metadata": {
        "id": "recursive_approach"
      },
      "outputs": [],
      "source": [
        "# Recursive Approach - O(m×n) Time, O(min(m,n)) Space (call stack)\n",
        "class Solutions:\n",
        "    def spiralOrder(self, matrix: List[List[int]]) -> List[int]:\n",
        "        def spiral_helper(mat):\n",
        "            if not mat or not mat[0]:\n",
        "                return []\n",
        "            \n",
        "            # Base case: single row\n",
        "            if len(mat) == 1:\n",
        "                return mat[0]\n",
        "            \n",
        "            # Base case: single column\n",
        "            if len(mat[0]) == 1:\n",
        "                return [row[0] for row in mat]\n",
        "            \n",
        "            result = []\n",
        "            \n",
        "            # Add top row\n",
        "            result.extend(mat[0])\n",
        "            \n",
        "            # Add right column (excluding corners)\n",
        "            for i in range(1, len(mat) - 1):\n",
        "                result.append(mat[i][-1])\n",
        "            \n",
        "            # Add bottom row (reversed)\n",
        "            result.extend(mat[-1][::-1])\n",
        "            \n",
        "            # Add left column (excluding corners, from bottom to top)\n",
        "            for i in range(len(mat) - 2, 0, -1):\n",
        "                result.append(mat[i][0])\n",
        "            \n",
        "            # Recursively process inner matrix\n",
        "            inner_matrix = [row[1:-1] for row in mat[1:-1]]\n",
        "            result.extend(spiral_helper(inner_matrix))\n",
        "            \n",
        "            return result\n",
        "        \n",
        "        return spiral_helper(matrix)"
      ]
    },
    {
      "cell_type": "code",
      "execution_count": 39,
      "metadata": {
        "id": "pGQp5z-sdWo8"
      },
      "outputs": [],
      "source": [
        "sol = Solutions()"
      ]
    },
    {
      "cell_type": "code",
      "execution_count": 40,
      "metadata": {
        "colab": {
          "base_uri": "https://localhost:8080/"
        },
        "id": "VYyI5UXTd3tB",
        "outputId": "d4e7a9e7-3c8e-4b25-e8b7-f5a3b2a7c9d1"
      },
      "outputs": [
        {
          "name": "stdout",
          "output_type": "stream",
          "text": [
            "Example 1: [1, 2, 3, 6, 9, 8, 7, 4, 5]\n",
            "Example 2: [1, 2, 3, 4, 8, 12, 11, 10, 9, 5, 6, 7]\n"
          ]
        }
      ],
      "source": [
        "# Test with examples\n",
        "print(\"Example 1:\", sol.spiralOrder([[1,2,3],[4,5,6],[7,8,9]]))  # Expected: [1,2,3,6,9,8,7,4,5]\n",
        "print(\"Example 2:\", sol.spiralOrder([[1,2,3,4],[5,6,7,8],[9,10,11,12]]))  # Expected: [1,2,3,4,8,12,11,10,9,5,6,7]"
      ]
    },
    {
      "cell_type": "code",
      "execution_count": null,
      "metadata": {},
      "outputs": [],
      "source": []
    }
  ],
  "metadata": {
    "colab": {
      "provenance": []
    },
    "kernelspec": {
      "display_name": "base",
      "language": "python",
      "name": "python3"
    },
    "language_info": {
      "codemirror_mode": {
        "name": "ipython",
        "version": 3
      },
      "file_extension": ".py",
      "mimetype": "text/x-python",
      "name": "python",
      "nbconvert_exporter": "python",
      "pygments_lexer": "ipython3",
      "version": "3.12.7"
    }
  },
  "nbformat": 4,
  "nbformat_minor": 0
}
