{
  "cells": [
    {
      "cell_type": "markdown",
      "metadata": {
        "id": "YaCLcYX7aDRE"
      },
      "source": [
        "# **Minimum Time Visiting All Points**\n",
        "> **Problem Statement:**  \n",
        "On a 2D plane, there are `n` points with integer coordinates `points[i] = [xi, yi]`. Your task is to find the minimum time in seconds to visit all points in the order given by `points`.  \n",
        "\n",
        "You can move according to these rules:\n",
        "- In 1 second, you can either:\n",
        "  - Move vertically by one unit,\n",
        "  - Move horizontally by one unit, or\n",
        "  - Move diagonally by one unit (it takes 1 second to move diagonally).\n",
        "\n",
        "You have to visit the points in the same order as they appear in the array. You are allowed to pass through points that appear later in the order, but these do not count as visits.\n",
        "\n",
        "---\n",
        "\n",
        "**Examples**\n",
        "\n",
        "**Example 1:**  \n",
        "Input: `points = [[1,1],[3,4],[-1,0]]`  \n",
        "Output: `7`  \n",
        "Explanation: One optimal path is **[1,1] -> [2,2] -> [3,3] -> [3,4] -> [2,3] -> [1,2] -> [0,1] -> [-1,0]**   \n",
        "Time from [1,1] to [3,4] = 3 seconds   \n",
        "Time from [3,4] to [-1,0] = 4 seconds  \n",
        "Total time = 7 seconds\n",
        "\n",
        "---\n",
        "\n",
        "**Example 2:**  \n",
        "Input: `points = [[3,2],[-2,2]]`  \n",
        "Output: `5`\n",
        "\n",
        "---\n",
        "\n",
        "**Constraints**\n",
        "\n",
        "- `points.length == n`\n",
        "- `1 <= n <= 100`\n",
        "- `points[i].length == 2`\n",
        "- `-1000 <= points[i][0], points[i][1] <= 1000`\n",
        "\n",
        "---\n",
        "\n",
        "**Key Insight**\n",
        "\n",
        "> The minimum time between two points is the **Chebyshev distance** (also known as chessboard distance): `max(|x2-x1|, |y2-y1|)`"
      ]
    },
    {
      "cell_type": "code",
      "execution_count": 1,
      "metadata": {
        "id": "s3qa6qzPCNoY"
      },
      "outputs": [],
      "source": [
        "from typing import List"
      ]
    },
    {
      "cell_type": "code",
      "execution_count": 2,
      "metadata": {
        "id": "F_kgl_e0aObl"
      },
      "outputs": [],
      "source": [
        "# Sequential Iteration - O(n) Time, O(1) Space\n",
        "class Solutions:\n",
        "    def minTimeToVisitAllPoints(self, points: List[List[int]]) -> int:\n",
        "        total_time = 0\n",
        "        \n",
        "        for i in range(len(points) - 1):\n",
        "            x1, y1 = points[i]\n",
        "            x2, y2 = points[i + 1]\n",
        "            \n",
        "            # Chebyshev distance (maximum of horizontal and vertical distance)\n",
        "            time_between_points = max(abs(x2 - x1), abs(y2 - y1))\n",
        "            total_time += time_between_points\n",
        "        \n",
        "        return total_time"
      ]
    },
    {
      "cell_type": "code",
      "execution_count": 11,
      "metadata": {
        "id": "pop_based_approach"
      },
      "outputs": [],
      "source": [
        "# Pop-based Approach - O(n) Time, O(1) Space (modifies input)\n",
        "class Solutions:\n",
        "    def minTimeToVisitAllPoints(self, points: List[List[int]]) -> int:\n",
        "        total_time = 0\n",
        "        current_x, current_y = points.pop()\n",
        "        \n",
        "        while points:\n",
        "            next_x, next_y = points.pop()\n",
        "            \n",
        "            travel_time = max(abs(next_x - current_x), abs(next_y - current_y))\n",
        "            total_time += travel_time\n",
        "            \n",
        "            current_x, current_y = next_x, next_y\n",
        "        \n",
        "        return total_time"
      ]
    },
    {
      "cell_type": "code",
      "execution_count": 12,
      "metadata": {
        "id": "WIBR_ihfjCHV"
      },
      "outputs": [],
      "source": [
        "# Zip-based Approach - O(n) Time, O(1) Space\n",
        "class Solutions:\n",
        "    def minTimeToVisitAllPoints(self, points: List[List[int]]) -> int:\n",
        "        total_time = 0\n",
        "        \n",
        "        # Zip consecutive pairs: (points[0], points[1]), (points[1], points[2]), ...\n",
        "        for (x1, y1), (x2, y2) in zip(points, points[1:]):\n",
        "            total_time += max(abs(x2 - x1), abs(y2 - y1))\n",
        "        \n",
        "        return total_time"
      ]
    },
    {
      "cell_type": "code",
      "execution_count": 15,
      "metadata": {
        "id": "functional_approach"
      },
      "outputs": [],
      "source": [
        "# Functional Approach with Sum - O(n) Time, O(n) Space\n",
        "class Solutions:\n",
        "    def minTimeToVisitAllPoints(self, points: List[List[int]]) -> int:\n",
        "        def chebyshev_distance(point1, point2):\n",
        "            x1, y1 = point1\n",
        "            x2, y2 = point2\n",
        "            return max(abs(x2 - x1), abs(y2 - y1))\n",
        "        \n",
        "        # Calculate distance for each consecutive pair and sum\n",
        "        distances = [chebyshev_distance(points[i], points[i + 1]) \n",
        "                    for i in range(len(points) - 1)]\n",
        "        \n",
        "        return sum(distances)"
      ]
    },
    {
      "cell_type": "code",
      "execution_count": 18,
      "metadata": {
        "id": "generator_approach"
      },
      "outputs": [],
      "source": [
        "# Generator Expression - O(n) Time, O(1) Space\n",
        "class Solutions:\n",
        "    def minTimeToVisitAllPoints(self, points: List[List[int]]) -> int:\n",
        "        return sum(max(abs(x2 - x1), abs(y2 - y1)) \n",
        "                  for (x1, y1), (x2, y2) in zip(points, points[1:]))"
      ]
    },
    {
      "cell_type": "code",
      "execution_count": 22,
      "metadata": {
        "id": "while_loop_approach"
      },
      "outputs": [],
      "source": [
        "# While Loop Approach - O(n) Time, O(1) Space\n",
        "class Solutions:\n",
        "    def minTimeToVisitAllPoints(self, points: List[List[int]]) -> int:\n",
        "        total_time = 0\n",
        "        current_index = 0\n",
        "        \n",
        "        while current_index < len(points) - 1:\n",
        "            x1, y1 = points[current_index]\n",
        "            x2, y2 = points[current_index + 1]\n",
        "            \n",
        "            total_time += max(abs(x2 - x1), abs(y2 - y1))\n",
        "            current_index += 1\n",
        "        \n",
        "        return total_time"
      ]
    },
    {
      "cell_type": "code",
      "execution_count": 25,
      "metadata": {
        "id": "recursive_approach"
      },
      "outputs": [],
      "source": [
        "# Recursive Approach - O(n) Time, O(n) Space (call stack)\n",
        "class Solutions:\n",
        "    def minTimeToVisitAllPoints(self, points: List[List[int]]) -> int:\n",
        "        def calculate_time(index):\n",
        "            # Base case: reached the last point\n",
        "            if index >= len(points) - 1:\n",
        "                return 0\n",
        "            \n",
        "            # Calculate time to next point + time for remaining points\n",
        "            x1, y1 = points[index]\n",
        "            x2, y2 = points[index + 1]\n",
        "            current_time = max(abs(x2 - x1), abs(y2 - y1))\n",
        "            \n",
        "            return current_time + calculate_time(index + 1)\n",
        "        \n",
        "        return calculate_time(0)"
      ]
    },
    {
      "cell_type": "code",
      "execution_count": 26,
      "metadata": {
        "id": "pGQp5z-sdWo8"
      },
      "outputs": [],
      "source": [
        "sol = Solutions()"
      ]
    },
    {
      "cell_type": "code",
      "execution_count": 27,
      "metadata": {
        "colab": {
          "base_uri": "https://localhost:8080/"
        },
        "id": "VYyI5UXTd3tB",
        "outputId": "test_output"
      },
      "outputs": [
        {
          "name": "stdout",
          "output_type": "stream",
          "text": [
            "Example 1: 7\n",
            "Example 2: 5\n"
          ]
        }
      ],
      "source": [
        "# Test with examples\n",
        "print(\"Example 1:\", sol.minTimeToVisitAllPoints([[1,1],[3,4],[-1,0]]))  # Expected: 7\n",
        "print(\"Example 2:\", sol.minTimeToVisitAllPoints([[3,2],[-2,2]]))        # Expected: 5"
      ]
    },
    {
      "cell_type": "markdown",
      "metadata": {
        "id": "complexity_analysis"
      },
      "source": [
        "**Recommended:** \n",
        "- **Sequential Iteration** for clarity and efficiency (the first solution)\n",
        "- **Zip-based approach** for Pythonic style\n",
        "- **Generator Expression** for most concise code\n",
        "- Avoid **Pop-based** if you need to preserve the input array"
      ]
    },
    {
      "cell_type": "markdown",
      "metadata": {
        "id": "algorithm_explanations"
      },
      "source": [
        "**Notes:** \n",
        "\n",
        "**Do read about Chebyshev Distance**\n"
      ]
    },
    {
      "cell_type": "code",
      "execution_count": null,
      "metadata": {
        "id": "bRasKKb1CTL7"
      },
      "outputs": [],
      "source": []
    }
  ],
  "metadata": {
    "colab": {
      "provenance": []
    },
    "kernelspec": {
      "display_name": "base",
      "language": "python",
      "name": "python3"
    },
    "language_info": {
      "codemirror_mode": {
        "name": "ipython",
        "version": 3
      },
      "file_extension": ".py",
      "mimetype": "text/x-python",
      "name": "python",
      "nbconvert_exporter": "python",
      "pygments_lexer": "ipython3",
      "version": "3.12.7"
    }
  },
  "nbformat": 4,
  "nbformat_minor": 0
}
