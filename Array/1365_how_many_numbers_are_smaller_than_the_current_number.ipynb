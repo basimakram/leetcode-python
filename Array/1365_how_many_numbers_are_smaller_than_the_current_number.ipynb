{
  "cells": [
    {
      "cell_type": "markdown",
      "metadata": {
        "id": "YaCLcYX7aDRE"
      },
      "source": [
        "# **How Many Numbers Are Smaller Than the Current Number**\n",
        "> **Problem Statement:**  \n",
        "Given the array `nums`, for each `nums[i]` find out how many numbers in the array are smaller than it. That is, for each `nums[i]` you have to count the number of valid `j`'s such that `j != i` and `nums[j] < nums[i]`.  \n",
        "\n",
        "Return the answer in an array.\n",
        "\n",
        "---\n",
        "\n",
        "**Examples**\n",
        "\n",
        "**Example 1:**  \n",
        "Input: `nums = [8,1,2,2,3]`  \n",
        "Output: `[4,0,1,1,3]`  \n",
        "Explanation: \n",
        "- For nums[0]=8 there exist four smaller numbers than it (1, 2, 2 and 3).\n",
        "- For nums[1]=1 does not exist any smaller number than it.\n",
        "- For nums[2]=2 there exist one smaller number than it (1).\n",
        "- For nums[3]=2 there exist one smaller number than it (1).\n",
        "- For nums[4]=3 there exist three smaller numbers than it (1, 2 and 2).\n",
        "\n",
        "---\n",
        "\n",
        "**Example 2:**  \n",
        "Input: `nums = [6,5,4,8]`  \n",
        "Output: `[2,1,0,3]`\n",
        "\n",
        "---\n",
        "\n",
        "**Example 3:**  \n",
        "Input: `nums = [7,7,7,7]`  \n",
        "Output: `[0,0,0,0]`\n",
        "\n",
        "---\n",
        "\n",
        "**Constraints**\n",
        "\n",
        "- `2 <= nums.length <= 500`\n",
        "- `0 <= nums[i] <= 100`\n",
        "\n",
        "---\n",
        "\n",
        "**Follow-up**\n",
        "\n",
        "> Can you solve this problem with better time complexity?"
      ]
    },
    {
      "cell_type": "code",
      "execution_count": 1,
      "metadata": {
        "id": "s3qa6qzPCNoY"
      },
      "outputs": [],
      "source": [
        "from typing import List"
      ]
    },
    {
      "cell_type": "code",
      "execution_count": 2,
      "metadata": {
        "id": "F_kgl_e0aObl"
      },
      "outputs": [],
      "source": [
        "# Brute Force - O(n²) Time, O(1) Space (excluding output)\n",
        "class Solutions:\n",
        "    def smallerNumbersThanCurrent(self, nums: List[int]) -> List[int]:\n",
        "        result = []\n",
        "        count = 0\n",
        "        for current_num in nums:\n",
        "            for compare_num in nums:\n",
        "                if current_num > compare_num:\n",
        "                    count += 1\n",
        "            result.append(count)\n",
        "            count = 0\n",
        "        return result"
      ]
    },
    {
      "cell_type": "code",
      "execution_count": 5,
      "metadata": {
        "id": "sorting_dictionary_approach"
      },
      "outputs": [],
      "source": [
        "# Sorting with Dictionary - O(n log n) Time, O(n) Space\n",
        "class Solutions:\n",
        "    def smallerNumbersThanCurrent(self, nums: List[int]) -> List[int]:\n",
        "        num_to_count = {}\n",
        "        sorted_nums = sorted(nums)\n",
        "        \n",
        "        # Map each number to count of smaller numbers\n",
        "        for i, num in enumerate(sorted_nums):\n",
        "            if num not in num_to_count:\n",
        "                num_to_count[num] = i\n",
        "        \n",
        "        result = []\n",
        "        for num in nums:\n",
        "            smaller_count = num_to_count[num]\n",
        "            result.append(smaller_count)\n",
        "        \n",
        "        return result"
      ]
    },
    {
      "cell_type": "code",
      "execution_count": 8,
      "metadata": {
        "id": "WIBR_ihfjCHV"
      },
      "outputs": [],
      "source": [
        "# Counting Sort - O(n) Time, O(n) Space\n",
        "class Solutions:\n",
        "    def smallerNumbersThanCurrent(self, nums: List[int]) -> List[int]:\n",
        "        # Count frequency of each number (0 to 100)\n",
        "        frequency = [0] * 101\n",
        "        \n",
        "        \n",
        "        for num in nums:\n",
        "            frequency[num] += 1\n",
        "        \n",
        "        # Convert to cumulative count (prefix sum)\n",
        "        for i in range(1, 101):\n",
        "            frequency[i] += frequency[i-1]\n",
        "        \n",
        "        result = []\n",
        "        # For each number, get count of smaller numbers\n",
        "        for num in nums:\n",
        "            if num == 0:\n",
        "                result.append(0)\n",
        "            else:\n",
        "                result.append(frequency[num-1])\n",
        "        \n",
        "        return result"
      ]
    },
    {
      "cell_type": "code",
      "execution_count": 18,
      "metadata": {
        "id": "sorting_index_mapping"
      },
      "outputs": [],
      "source": [
        "# Sorting with Index Mapping - O(n log n) Time, O(n) Space\n",
        "class Solutions:\n",
        "    def smallerNumbersThanCurrent(self, nums: List[int]) -> List[int]:\n",
        "        result = []\n",
        "        num_to_smaller_count = {}\n",
        "        \n",
        "        # Create a copy and sort in descending order\n",
        "        sorted_copy = nums[:]\n",
        "        sorted_copy.sort(reverse=True)\n",
        "        \n",
        "        # Map each number to count of numbers smaller than it\n",
        "        for i, value in enumerate(sorted_copy):\n",
        "            remaining_count = len(nums) - i - 1\n",
        "            num_to_smaller_count[value] = remaining_count\n",
        "        \n",
        "        # Build result using the mapping\n",
        "        for num in nums:\n",
        "            result.append(num_to_smaller_count[num])\n",
        "        \n",
        "        return result"
      ]
    },
    {
      "cell_type": "code",
      "execution_count": 15,
      "metadata": {
        "id": "enumerate_sort_approach"
      },
      "outputs": [],
      "source": [
        "# Enumerate and Sort - O(n log n) Time, O(n) Space\n",
        "class Solutions:\n",
        "    def smallerNumbersThanCurrent(self, nums: List[int]) -> List[int]:\n",
        "        # Create pairs of (value, original_index)\n",
        "        indexed_nums = [(nums[i], i) for i in range(len(nums))]\n",
        "        indexed_nums.sort()  # Sort by value\n",
        "        \n",
        "        result = [0] * len(nums)\n",
        "        \n",
        "        # Assign counts based on sorted position\n",
        "        for i, (value, original_index) in enumerate(indexed_nums):\n",
        "            # Handle duplicates by finding first occurrence\n",
        "            j = i\n",
        "            while j > 0 and indexed_nums[j-1][0] == value:\n",
        "                j -= 1\n",
        "            result[original_index] = j\n",
        "        \n",
        "        return result"
      ]
    },
    {
      "cell_type": "code",
      "execution_count": 26,
      "metadata": {
        "id": "binary_search_approach"
      },
      "outputs": [],
      "source": [
        "# Binary Search Approach - O(n² log n) Time, O(n) Space\n",
        "class Solutions:\n",
        "    def smallerNumbersThanCurrent(self, nums: List[int]) -> List[int]:\n",
        "        import bisect\n",
        "        \n",
        "        result = []\n",
        "        \n",
        "        for target in nums:\n",
        "            # Create list of numbers smaller than target\n",
        "            smaller_nums = [num for num in nums if num < target]\n",
        "            result.append(len(smaller_nums))\n",
        "        \n",
        "        return result"
      ]
    },
    {
      "cell_type": "code",
      "execution_count": 29,
      "metadata": {
        "id": "counter_approach"
      },
      "outputs": [],
      "source": [
        "# Counter with Sorted Keys - O(n) Time, O(1) Space\n",
        "class Solutions:\n",
        "    def smallerNumbersThanCurrent(self, nums: List[int]) -> List[int]:\n",
        "        from collections import Counter\n",
        "        \n",
        "        # Count frequency of each number\n",
        "        counter = Counter(nums)\n",
        "        \n",
        "        # Get sorted unique numbers\n",
        "        sorted_unique = sorted(counter.keys())\n",
        "        \n",
        "        # Build mapping from number to count of smaller numbers\n",
        "        num_to_smaller_count = {}\n",
        "        cumulative_count = 0\n",
        "        \n",
        "        for num in sorted_unique:\n",
        "            num_to_smaller_count[num] = cumulative_count\n",
        "            cumulative_count += counter[num]\n",
        "        \n",
        "        # Build result\n",
        "        return [num_to_smaller_count[num] for num in nums]"
      ]
    },
    {
      "cell_type": "code",
      "execution_count": 30,
      "metadata": {
        "id": "pGQp5z-sdWo8"
      },
      "outputs": [],
      "source": [
        "sol = Solutions()"
      ]
    },
    {
      "cell_type": "code",
      "execution_count": 31,
      "metadata": {
        "colab": {
          "base_uri": "https://localhost:8080/"
        },
        "id": "VYyI5UXTd3tB",
        "outputId": "test_output"
      },
      "outputs": [
        {
          "name": "stdout",
          "output_type": "stream",
          "text": [
            "Example 1: [4, 0, 1, 1, 3]\n",
            "Example 2: [2, 1, 0, 3]\n",
            "Example 3: [0, 0, 0, 0]\n"
          ]
        }
      ],
      "source": [
        "# Test with examples\n",
        "print(\"Example 1:\", sol.smallerNumbersThanCurrent([8,1,2,2,3]))  # Expected: [4,0,1,1,3]\n",
        "print(\"Example 2:\", sol.smallerNumbersThanCurrent([6,5,4,8]))     # Expected: [2,1,0,3]\n",
        "print(\"Example 3:\", sol.smallerNumbersThanCurrent([7,7,7,7]))     # Expected: [0,0,0,0]"
      ]
    },
    {
      "cell_type": "markdown",
      "metadata": {
        "id": "algorithm_explanations"
      },
      "source": [
        "## **Algorithm Explanations**\n",
        "\n",
        "### **Counting Sort Approach (Optimal)**\n",
        "Takes advantage of the constraint that numbers are in range [0, 100]:\n",
        "1. Count frequency of each number (0-100)\n",
        "2. Convert to cumulative/prefix sum array\n",
        "3. For number `x`, `frequency[x-1]` gives count of numbers < x\n",
        "4. Handle edge case when x = 0\n",
        "\n",
        "### **Sorting with Dictionary**\n",
        "General approach that works for any range:\n",
        "1. Sort the array to get relative positions\n",
        "2. Map each unique number to its first occurrence index\n",
        "3. The index represents count of smaller numbers\n",
        "4. Use mapping to build result array\n",
        "\n",
        "### **Why Counting Sort is Preferred**\n",
        "- **Linear time complexity**: O(n + k) where k=101 is constant\n",
        "- **Space efficient**: Only uses fixed array of size 101 plus obvs a result array\n",
        "- **Handles duplicates naturally**: Through frequency counting\n",
        "- **Perfect for constrained input**: Leverages the 0≤nums[i]≤100 constraint\n",
        "\n",
        "### **Key Insight: Prefix Sum**\n",
        "The cumulative count array tells us:\n",
        "- `frequency[i]` = count of numbers ≤ i\n",
        "- `frequency[i-1]` = count of numbers < i\n",
        "- This directly gives us the answer for each number"
      ]
    },
    {
      "cell_type": "code",
      "execution_count": null,
      "metadata": {
        "id": "bRasKKb1CTL7"
      },
      "outputs": [],
      "source": []
    },
    {
      "cell_type": "code",
      "execution_count": null,
      "metadata": {},
      "outputs": [],
      "source": []
    }
  ],
  "metadata": {
    "colab": {
      "provenance": []
    },
    "kernelspec": {
      "display_name": "base",
      "language": "python",
      "name": "python3"
    },
    "language_info": {
      "codemirror_mode": {
        "name": "ipython",
        "version": 3
      },
      "file_extension": ".py",
      "mimetype": "text/x-python",
      "name": "python",
      "nbconvert_exporter": "python",
      "pygments_lexer": "ipython3",
      "version": "3.12.7"
    }
  },
  "nbformat": 4,
  "nbformat_minor": 0
}
