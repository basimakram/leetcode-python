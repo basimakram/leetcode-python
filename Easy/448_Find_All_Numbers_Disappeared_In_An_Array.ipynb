{
  "cells": [
    {
      "cell_type": "markdown",
      "metadata": {
        "id": "YaCLcYX7aDRE"
      },
      "source": [
        "# **448 - Find All Numbers Disappeared in an Array**\n",
        "> **Problem Statement:**  \n",
        "Given an array `nums` of `n` integers where `nums[i]` is in the range `[1, n]`, return *an array of all the integers in the range `[1, n]` that do not appear in `nums`*.  \n",
        "\n",
        "---\n",
        "\n",
        "**Examples**\n",
        "\n",
        "**Example 1:**  \n",
        "Input: `nums = [4,3,2,7,8,2,3,1]`  \n",
        "Output: `[5,6]`  \n",
        "\n",
        "---\n",
        "\n",
        "**Example 2:**  \n",
        "Input: `nums = [1,1]`  \n",
        "Output: `[2]`\n",
        "\n",
        "---\n",
        "\n",
        "**Constraints**\n",
        "\n",
        "- `n == nums.length`\n",
        "- `1 <= n <= 10⁵`\n",
        "- `1 <= nums[i] <= n`\n",
        "\n",
        "---\n",
        "\n",
        "**Follow-up**\n",
        "\n",
        "> Could you do it without extra space and in O(n) runtime? You may assume the returned list does not count as extra space."
      ]
    },
    {
      "cell_type": "code",
      "execution_count": 1,
      "metadata": {
        "id": "s3qa6qzPCNoY"
      },
      "outputs": [],
      "source": [
        "from typing import List"
      ]
    },
    {
      "cell_type": "code",
      "execution_count": 2,
      "metadata": {
        "id": "F_kgl_e0aObl"
      },
      "outputs": [],
      "source": [
        "# Brute Force - O(n²) Time, O(1) Space (excluding output)\n",
        "class Solutions:\n",
        "    def findDisappearedNumbers(self, nums: List[int]) -> List[int]:\n",
        "        result = []\n",
        "        n = len(nums)\n",
        "        for i in range(1, n + 1):\n",
        "            if i not in nums:\n",
        "                result.append(i)\n",
        "        return result"
      ]
    },
    {
      "cell_type": "code",
      "execution_count": null,
      "metadata": {
        "id": "set_approach_clean"
      },
      "outputs": [],
      "source": [
        "# Set Approach  - O(n) Time, O(n) Space\n",
        "class Solutions:\n",
        "    def findDisappearedNumbers(self, nums: List[int]) -> List[int]:\n",
        "        num_set = set(nums)\n",
        "        result = []\n",
        "        \n",
        "        for i in range(1, len(nums) + 1):\n",
        "            if i not in num_set:\n",
        "                result.append(i)\n",
        "        return result"
      ]
    },
    {
      "cell_type": "code",
      "execution_count": 5,
      "metadata": {
        "id": "set_difference_approach"
      },
      "outputs": [],
      "source": [
        "# Set Difference (One-liner) - O(n) Time, O(n) Space\n",
        "class Solutions:\n",
        "    def findDisappearedNumbers(self, nums: List[int]) -> List[int]:\n",
        "        return list(set(range(1, len(nums) + 1)) - set(nums))"
      ]
    },
    {
      "cell_type": "code",
      "execution_count": null,
      "metadata": {
        "id": "WIBR_ihfjCHV"
      },
      "outputs": [],
      "source": [
        "# In-Place Marking - O(n) Time, O(1) Space\n",
        "class Solutions:\n",
        "    def findDisappearedNumbers(self, nums: List[int]) -> List[int]:\n",
        "        # Mark numbers as visited by making them negative\n",
        "        for num in nums:\n",
        "            i = abs(num) - 1\n",
        "            if nums[i] > 0:\n",
        "                nums[i] = -nums[i]\n",
        "        \n",
        "        # Collect indices where numbers are still positive\n",
        "        res = []\n",
        "        for i in range(len(nums)):\n",
        "            if nums[i] > 0:\n",
        "                res.append(i + 1)\n",
        "        return res"
      ]
    },
    {
      "cell_type": "code",
      "execution_count": 7,
      "metadata": {
        "id": "in_place_non_destructive"
      },
      "outputs": [],
      "source": [
        "# In-Place Marking (Non-destructive) - O(n) Time, O(1) Space\n",
        "class Solutions:\n",
        "    def findDisappearedNumbers(self, nums: List[int]) -> List[int]:\n",
        "        n = len(nums)\n",
        "        \n",
        "        # Mark presence by adding n to the index\n",
        "        for num in nums:\n",
        "            index = (num - 1) % n\n",
        "            nums[index] += n\n",
        "        \n",
        "        # Find indices where value <= n (not marked)\n",
        "        result = []\n",
        "        for i in range(n):\n",
        "            if nums[i] <= n:\n",
        "                result.append(i + 1)\n",
        "        \n",
        "        # Restore original array\n",
        "        for i in range(n):\n",
        "            nums[i] %= n\n",
        "            if nums[i] == 0:\n",
        "                nums[i] = n\n",
        "        \n",
        "        return result"
      ]
    },
    {
      "cell_type": "code",
      "execution_count": 8,
      "metadata": {
        "id": "boolean_array_approach"
      },
      "outputs": [],
      "source": [
        "# Boolean Array Approach - O(n) Time, O(n) Space\n",
        "class Solutions:\n",
        "    def findDisappearedNumbers(self, nums: List[int]) -> List[int]:\n",
        "        n = len(nums)\n",
        "        present = [False] * (n + 1)  # Index 0 unused\n",
        "        \n",
        "        # Mark present numbers\n",
        "        for num in nums:\n",
        "            present[num] = True\n",
        "        \n",
        "        # Find missing numbers\n",
        "        result = []\n",
        "        for i in range(1, n + 1):\n",
        "            if not present[i]:\n",
        "                result.append(i)\n",
        "        return result"
      ]
    },
    {
      "cell_type": "code",
      "execution_count": 9,
      "metadata": {
        "id": "cyclic_sort_approach"
      },
      "outputs": [],
      "source": [
        "# Cyclic Sort Approach - O(n) Time, O(1) Space\n",
        "class Solutions:\n",
        "    def findDisappearedNumbers(self, nums: List[int]) -> List[int]:\n",
        "        i = 0\n",
        "        n = len(nums)\n",
        "        \n",
        "        # Place each number at its correct position\n",
        "        while i < n:\n",
        "            correct_pos = nums[i] - 1\n",
        "            if nums[i] != nums[correct_pos]:\n",
        "                nums[i], nums[correct_pos] = nums[correct_pos], nums[i]\n",
        "            else:\n",
        "                i += 1\n",
        "        \n",
        "        # Find positions where number doesn't match index + 1\n",
        "        result = []\n",
        "        for i in range(n):\n",
        "            if nums[i] != i + 1:\n",
        "                result.append(i + 1)\n",
        "        return result"
      ]
    },
    {
      "cell_type": "code",
      "execution_count": 10,
      "metadata": {
        "id": "pGQp5z-sdWo8"
      },
      "outputs": [],
      "source": [
        "sol = Solutions()"
      ]
    },
    {
      "cell_type": "code",
      "execution_count": 11,
      "metadata": {
        "colab": {
          "base_uri": "https://localhost:8080/"
        },
        "id": "VYyI5UXTd3tB",
        "outputId": "test_output"
      },
      "outputs": [
        {
          "data": {
            "text/plain": [
              "Example 1: [5, 6]\n",
              "Example 2: [2]"
            ]
          },
          "execution_count": 11,
          "metadata": {},
          "output_type": "execute_result"
        }
      ],
      "source": [
        "# Test with examples\n",
        "print(\"Example 1:\", sol.findDisappearedNumbers([4,3,2,7,8,2,3,1]))  # Expected: [5,6]\n",
        "print(\"Example 2:\", sol.findDisappearedNumbers([1,1]))  # Expected: [2]"
      ]
    },
    {
      "cell_type": "markdown",
      "metadata": {
        "id": "algorithm_explanations"
      },
      "source": [
        "## **Algorithm Explanations**\n",
        "\n",
        "### **In-Place Marking (Negative Numbers)**\n",
        "Uses the array itself as a hash map by marking visited indices:\n",
        "1. For each number `num`, mark index `num-1` by making it negative\n",
        "2. Numbers that remain positive indicate missing numbers\n",
        "3. Uses the fact that all numbers are positive initially\n",
        "\n",
        "### **Cyclic Sort Pattern**\n",
        "Tries to place each number at its \"correct\" position:\n",
        "1. Number `i` should be at index `i-1`\n",
        "2. Swap elements until each is in correct position or duplicate\n",
        "3. Missing numbers leave gaps in the sorted arrangement\n",
        "\n",
        "### **Set Difference Approach**\n",
        "Mathematical set operation:\n",
        "- Create set of expected range [1,2,...,n]\n",
        "- Create set of actual numbers\n",
        "- Return difference between expected and actual\n",
        "\n",
        "### **Why In-Place Marking is Preferred**\n",
        "- Achieves O(1) space complexity (follow-up requirement)\n",
        "- Linear time complexity\n",
        "- Clever use of sign bit for marking\n",
        "- No additional data structures needed"
      ]
    },
    {
      "cell_type": "code",
      "execution_count": null,
      "metadata": {
        "id": "bRasKKb1CTL7"
      },
      "outputs": [],
      "source": []
    },
    {
      "cell_type": "code",
      "execution_count": null,
      "metadata": {},
      "outputs": [],
      "source": []
    },
    {
      "cell_type": "code",
      "execution_count": null,
      "metadata": {},
      "outputs": [],
      "source": []
    }
  ],
  "metadata": {
    "colab": {
      "provenance": []
    },
    "kernelspec": {
      "display_name": "base",
      "language": "python",
      "name": "python3"
    },
    "language_info": {
      "codemirror_mode": {
        "name": "ipython",
        "version": 3
      },
      "file_extension": ".py",
      "mimetype": "text/x-python",
      "name": "python",
      "nbconvert_exporter": "python",
      "pygments_lexer": "ipython3",
      "version": "3.12.7"
    }
  },
  "nbformat": 4,
  "nbformat_minor": 0
}
