{
  "cells": [
    {
      "cell_type": "markdown",
      "metadata": {
        "id": "YaCLcYX7aDRE"
      },
      "source": [
        "# **217. Contains Duplicate**\n",
        "> **Problem Statement:**  \n",
        "Given an integer array `nums`, return `true` if any value appears **at least twice** in the array, and return `false` if every element is distinct.  \n",
        "\n",
        "---\n",
        "\n",
        "**Examples**\n",
        "\n",
        "**Example 1:**  \n",
        "Input: `nums = [1,2,3,1]`  \n",
        "Output: `true`  \n",
        "\n",
        "---\n",
        "\n",
        "**Example 2:**  \n",
        "Input: `nums = [1,2,3,4]`  \n",
        "Output: `false`\n",
        "\n",
        "---\n",
        "\n",
        "**Example 3:**  \n",
        "Input: `nums = [1,1,1,3,3,4,3,2,4,2]`  \n",
        "Output: `true`\n",
        "\n",
        "---\n",
        "\n",
        "**Constraints**\n",
        "\n",
        "- `1 <= nums.length <= 10⁵`\n",
        "- `-10⁹ <= nums[i] <= 10⁹`\n",
        "\n",
        "---\n",
        "\n",
        "**Follow-up**\n",
        "\n",
        "> Can you solve this problem with different approaches and analyze their time/space complexity?"
      ]
    },
    {
      "cell_type": "code",
      "execution_count": 3,
      "metadata": {
        "id": "s3qa6qzPCNoY"
      },
      "outputs": [],
      "source": [
        "from typing import List"
      ]
    },
    {
      "cell_type": "code",
      "execution_count": 4,
      "metadata": {
        "id": "F_kgl_e0aObl"
      },
      "outputs": [],
      "source": [
        "# Brute Force - O(n²) Time, O(1) Space\n",
        "class Solutions:\n",
        "    def containsDuplicate(self, nums: List[int]) -> bool:\n",
        "        for i in range(len(nums)):\n",
        "            for j in range(i + 1, len(nums)):\n",
        "                if nums[i] == nums[j]:\n",
        "                    return True\n",
        "        return False"
      ]
    },
    {
      "cell_type": "code",
      "execution_count": 5,
      "metadata": {
        "id": "WIBR_ihfjCHV"
      },
      "outputs": [],
      "source": [
        "# Dictionary/HashMap Approach - O(n) Time, O(n) Space\n",
        "class Solutions:\n",
        "    def containsDuplicate(self, nums: List[int]) -> bool:\n",
        "        seen = {}\n",
        "        for num in nums:\n",
        "            if num in seen:\n",
        "                return True\n",
        "            seen[num] = True\n",
        "        return False"
      ]
    },
    {
      "cell_type": "code",
      "execution_count": 6,
      "metadata": {
        "id": "optimized_set_approach"
      },
      "outputs": [],
      "source": [
        "# Set Approach - O(n) Time, O(n) Space\n",
        "class Solutions:\n",
        "    def containsDuplicate(self, nums: List[int]) -> bool:\n",
        "        seen = set()\n",
        "        for num in nums:\n",
        "            if num in seen:\n",
        "                return True\n",
        "            seen.add(num)\n",
        "        return False"
      ]
    },
    {
      "cell_type": "code",
      "execution_count": 7,
      "metadata": {
        "id": "one_liner_approach"
      },
      "outputs": [],
      "source": [
        "# One-liner Set Approach - O(n) Time, O(n) Space\n",
        "class Solutions:\n",
        "    def containsDuplicate(self, nums: List[int]) -> bool:\n",
        "        return len(nums) != len(set(nums))"
      ]
    },
    {
      "cell_type": "code",
      "execution_count": 8,
      "metadata": {
        "id": "sorting_approach"
      },
      "outputs": [],
      "source": [
        "# Sorting Approach - O(n log n) Time, O(1) Space\n",
        "class Solutions:\n",
        "    def containsDuplicate(self, nums: List[int]) -> bool:\n",
        "        nums.sort()\n",
        "        for i in range(1, len(nums)):\n",
        "            if nums[i] == nums[i-1]:\n",
        "                return True\n",
        "        return False"
      ]
    },
    {
      "cell_type": "code",
      "execution_count": 9,
      "metadata": {
        "id": "pGQp5z-sdWo8"
      },
      "outputs": [],
      "source": [
        "sol = Solutions()"
      ]
    },
    {
      "cell_type": "code",
      "execution_count": 10,
      "metadata": {
        "colab": {
          "base_uri": "https://localhost:8080/"
        },
        "id": "VYyI5UXTd3tB",
        "outputId": "test_output"
      },
      "outputs": [
        {
          "name": "stdout",
          "output_type": "stream",
          "text": [
            "Example 1: True\n",
            "Example 2: False\n",
            "Example 3: True\n"
          ]
        }
      ],
      "source": [
        "# Test with examples\n",
        "print(\"Example 1:\", sol.containsDuplicate([1,2,3,1]))  # Expected: True\n",
        "print(\"Example 2:\", sol.containsDuplicate([1,2,3,4]))  # Expected: False\n",
        "print(\"Example 3:\", sol.containsDuplicate([1,1,1,3,3,4,3,2,4,2]))  # Expected: True"
      ]
    },
    {
      "cell_type": "code",
      "execution_count": null,
      "metadata": {
        "id": "bRasKKb1CTL7"
      },
      "outputs": [],
      "source": []
    }
  ],
  "metadata": {
    "colab": {
      "provenance": []
    },
    "kernelspec": {
      "display_name": "base",
      "language": "python",
      "name": "python3"
    },
    "language_info": {
      "codemirror_mode": {
        "name": "ipython",
        "version": 3
      },
      "file_extension": ".py",
      "mimetype": "text/x-python",
      "name": "python",
      "nbconvert_exporter": "python",
      "pygments_lexer": "ipython3",
      "version": "3.12.7"
    }
  },
  "nbformat": 4,
  "nbformat_minor": 0
}
