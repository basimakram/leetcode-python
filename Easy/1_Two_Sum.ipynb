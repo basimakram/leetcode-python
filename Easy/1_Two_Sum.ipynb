{
  "nbformat": 4,
  "nbformat_minor": 0,
  "metadata": {
    "colab": {
      "provenance": []
    },
    "kernelspec": {
      "name": "python3",
      "display_name": "Python 3"
    },
    "language_info": {
      "name": "python"
    }
  },
  "cells": [
    {
      "cell_type": "markdown",
      "source": [
        "# **Two Sum**\n",
        "> **Problem Statement:**  \n",
        "Given an array of integers `nums` and an integer `target`, return the *indices* of the two numbers such that they add up to `target`.  \n",
        "\n",
        "- You may assume that each input has **exactly one solution**, and you **may not use the same element twice**.\n",
        "- You can return the answer in **any order**.\n",
        "\n",
        "---\n",
        "\n",
        "**Examples**\n",
        "\n",
        "**Example 1:**  \n",
        "Input: `nums = [2,7,11,15]`, `target = 9`  \n",
        "Output: `[0, 1]`  \n",
        "Explanation: `nums[0] + nums[1] == 9`, so we return `[0, 1]`.\n",
        "\n",
        "---\n",
        "\n",
        "**Example 2:**  \n",
        "Input: `nums = [3,2,4]`, `target = 6`  \n",
        "Output: `[1, 2]`\n",
        "\n",
        "---\n",
        "\n",
        "**Example 3:**  \n",
        "Input: `nums = [3,3]`, `target = 6`  \n",
        "Output: `[0, 1]`\n",
        "\n",
        "---\n",
        "\n",
        "**Constraints**\n",
        "\n",
        "- `2 <= nums.length <= 10⁴`\n",
        "- `-10⁹ <= nums[i] <= 10⁹`\n",
        "- `-10⁹ <= target <= 10⁹`\n",
        "- **Only one valid answer exists.**\n",
        "\n",
        "---\n",
        "\n",
        "**Follow-up**\n",
        "\n",
        "> Can you come up with an algorithm that is better than **O(n²)** time complexity?"
      ],
      "metadata": {
        "id": "YaCLcYX7aDRE"
      }
    },
    {
      "cell_type": "code",
      "source": [
        "from typing import List"
      ],
      "metadata": {
        "id": "s3qa6qzPCNoY"
      },
      "execution_count": 2,
      "outputs": []
    },
    {
      "cell_type": "code",
      "source": [
        "#Brute Force\n",
        "class Solutions:\n",
        "  def twoSum(self, nums: List[int], target: int) -> List[int]:\n",
        "    for i in range(len(nums)):\n",
        "      for j in range(i + 1, len(nums)):\n",
        "        if nums[i] + nums[j] == target:\n",
        "          return[i,j]"
      ],
      "metadata": {
        "id": "F_kgl_e0aObl"
      },
      "execution_count": 17,
      "outputs": []
    },
    {
      "cell_type": "code",
      "source": [
        "#Optimized\n",
        "class Solutions:\n",
        "  def twoSum(self, nums: List[int], target: int) -> List[int]:\n",
        "    seen = {}\n",
        "    for i in range(len(nums)):\n",
        "      num = nums[i]\n",
        "      if target - num in seen:\n",
        "        return[seen[target-num],i]\n",
        "      seen[num]= i"
      ],
      "metadata": {
        "id": "WIBR_ihfjCHV"
      },
      "execution_count": 7,
      "outputs": []
    },
    {
      "cell_type": "code",
      "source": [
        "sol = Solutions()"
      ],
      "metadata": {
        "id": "pGQp5z-sdWo8"
      },
      "execution_count": 18,
      "outputs": []
    },
    {
      "cell_type": "code",
      "source": [
        "sol.twoSum(nums = [4,2,-1,5], target = 4)"
      ],
      "metadata": {
        "colab": {
          "base_uri": "https://localhost:8080/"
        },
        "id": "VYyI5UXTd3tB",
        "outputId": "3a78cfcb-a74f-4147-adbd-0020c0f038ad"
      },
      "execution_count": 19,
      "outputs": [
        {
          "output_type": "execute_result",
          "data": {
            "text/plain": [
              "[2, 3]"
            ]
          },
          "metadata": {},
          "execution_count": 19
        }
      ]
    },
    {
      "cell_type": "code",
      "source": [],
      "metadata": {
        "id": "bRasKKb1CTL7"
      },
      "execution_count": null,
      "outputs": []
    }
  ]
}
