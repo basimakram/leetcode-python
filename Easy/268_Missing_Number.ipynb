{
  "cells": [
    {
      "cell_type": "markdown",
      "metadata": {
        "id": "YaCLcYX7aDRE"
      },
      "source": [
        "# **Missing Number**\n",
        "> **Problem Statement:**  \n",
        "Given an array `nums` containing `n` distinct numbers in the range `[0, n]`, return the *only number in the range that is missing from the array*.  \n",
        "\n",
        "---\n",
        "\n",
        "**Examples**\n",
        "\n",
        "**Example 1:**  \n",
        "Input: `nums = [3,0,1]`  \n",
        "Output: `2`  \n",
        "Explanation: `n = 3` since there are 3 numbers, so all numbers are in the range `[0,3]`. 2 is the missing number in the range since it does not appear in `nums`.\n",
        "\n",
        "---\n",
        "\n",
        "**Example 2:**  \n",
        "Input: `nums = [0,1]`  \n",
        "Output: `2`  \n",
        "Explanation: `n = 2` since there are 2 numbers, so all numbers are in the range `[0,2]`. 2 is the missing number in the range since it does not appear in `nums`.\n",
        "\n",
        "---\n",
        "\n",
        "**Example 3:**  \n",
        "Input: `nums = [9,6,4,2,3,5,7,0,1]`  \n",
        "Output: `8`  \n",
        "Explanation: `n = 9` since there are 9 numbers, so all numbers are in the range `[0,9]`. 8 is the missing number in the range since it does not appear in `nums`.\n",
        "\n",
        "---\n",
        "\n",
        "**Constraints**\n",
        "\n",
        "- `n == nums.length`\n",
        "- `1 <= n <= 10⁴`\n",
        "- `0 <= nums[i] <= n`\n",
        "- All the numbers of `nums` are **unique**.\n",
        "\n",
        "---\n",
        "\n",
        "**Follow-up**\n",
        "\n",
        "> Could you implement a solution using only O(1) extra space complexity and O(n) runtime complexity?"
      ]
    },
    {
      "cell_type": "code",
      "execution_count": 1,
      "metadata": {
        "id": "s3qa6qzPCNoY"
      },
      "outputs": [],
      "source": [
        "from typing import List"
      ]
    },
    {
      "cell_type": "code",
      "execution_count": 2,
      "metadata": {
        "id": "F_kgl_e0aObl"
      },
      "outputs": [],
      "source": [
        "# Brute Force - O(n²) Time, O(1) Space\n",
        "class Solutions:\n",
        "    def missingNumber(self, nums: List[int]) -> int:\n",
        "        n = len(nums)\n",
        "        for i in range(n + 1):\n",
        "            if i not in nums:\n",
        "                return i"
      ]
    },
    {
      "cell_type": "code",
      "execution_count": null,
      "metadata": {
        "id": "set_approach"
      },
      "outputs": [],
      "source": [
        "# Set Approach - O(n) Time, O(n) Space\n",
        "class Solutions:\n",
        "    def missingNumber(self, nums: List[int]) -> int:\n",
        "        num_set = set(nums)\n",
        "        n = len(nums)\n",
        "        for i in range(n + 1):\n",
        "            if i not in num_set:\n",
        "                return i"
      ]
    },
    {
      "cell_type": "code",
      "execution_count": null,
      "metadata": {
        "id": "sum_formula_approach"
      },
      "outputs": [],
      "source": [
        "#Formula Approach - O(n) Time, O(1) Space \n",
        "class Solutions:\n",
        "    def missingNumber(self, nums: List[int]) -> int:\n",
        "        n = len(nums)\n",
        "        expected_sum = n * (n + 1) // 2\n",
        "        return expected_sum - sum(nums)"
      ]
    },
    {
      "cell_type": "code",
      "execution_count": 11,
      "metadata": {
        "id": "WIBR_ihfjCHV"
      },
      "outputs": [],
      "source": [
        "# Sum with Range - O(n) Time, O(1) Space || Personal Favorite\n",
        "class Solutions:\n",
        "    def missingNumber(self, nums: List[int]) -> int:\n",
        "        n = len(nums) + 1\n",
        "        return sum(range(n)) - sum(nums)"
      ]
    },
    {
      "cell_type": "code",
      "execution_count": 18,
      "metadata": {
        "id": "xor_approach"
      },
      "outputs": [],
      "source": [
        "# XOR Approach - O(n) Time, O(1) Space\n",
        "class Solutions:\n",
        "    def missingNumber(self, nums: List[int]) -> int:\n",
        "        n = len(nums)\n",
        "        xor_all = 0\n",
        "        xor_nums = 0\n",
        "        \n",
        "        # XOR all numbers from 0 to n\n",
        "        for i in range(n + 1):\n",
        "            xor_all ^= i\n",
        "        \n",
        "        # XOR all numbers in the array\n",
        "        for num in nums:\n",
        "            xor_nums ^= num\n",
        "        \n",
        "        return xor_all ^ xor_nums"
      ]
    },
    {
      "cell_type": "code",
      "execution_count": 21,
      "metadata": {
        "id": "sorting_approach"
      },
      "outputs": [],
      "source": [
        "# Sorting Approach - O(n log n) Time, O(1) Space\n",
        "class Solutions:\n",
        "    def missingNumber(self, nums: List[int]) -> int:\n",
        "        nums.sort()\n",
        "        \n",
        "        # Check if 0 is missing\n",
        "        if nums[0] != 0:\n",
        "            return 0\n",
        "        \n",
        "        # Check if the missing number is in the middle\n",
        "        for i in range(1, len(nums)):\n",
        "            if nums[i] != nums[i-1] + 1:\n",
        "                return nums[i-1] + 1\n",
        "        \n",
        "        # Missing number is the last one\n",
        "        return len(nums)"
      ]
    },
    {
      "cell_type": "code",
      "execution_count": 25,
      "metadata": {
        "id": "pGQp5z-sdWo8"
      },
      "outputs": [],
      "source": [
        "sol = Solutions()"
      ]
    },
    {
      "cell_type": "code",
      "execution_count": 26,
      "metadata": {
        "colab": {
          "base_uri": "https://localhost:8080/"
        },
        "id": "VYyI5UXTd3tB",
        "outputId": "test_output"
      },
      "outputs": [
        {
          "name": "stdout",
          "output_type": "stream",
          "text": [
            "Example 1: 2\n",
            "Example 2: 2\n",
            "Example 3: 8\n"
          ]
        }
      ],
      "source": [
        "# Test with examples\n",
        "print(\"Example 1:\", sol.missingNumber([3,0,1]))  # Expected: 2\n",
        "print(\"Example 2:\", sol.missingNumber([0,1]))  # Expected: 2\n",
        "print(\"Example 3:\", sol.missingNumber([9,6,4,2,3,5,7,0,1]))  # Expected: 8"
      ]
    },
    {
      "cell_type": "code",
      "execution_count": null,
      "metadata": {
        "id": "bRasKKb1CTL7"
      },
      "outputs": [],
      "source": []
    }
  ],
  "metadata": {
    "colab": {
      "provenance": []
    },
    "kernelspec": {
      "display_name": "base",
      "language": "python",
      "name": "python3"
    },
    "language_info": {
      "codemirror_mode": {
        "name": "ipython",
        "version": 3
      },
      "file_extension": ".py",
      "mimetype": "text/x-python",
      "name": "python",
      "nbconvert_exporter": "python",
      "pygments_lexer": "ipython3",
      "version": "3.12.7"
    }
  },
  "nbformat": 4,
  "nbformat_minor": 0
}
